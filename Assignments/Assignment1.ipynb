{
    "metadata": {
        "kernelspec": {
            "name": "python3",
            "display_name": "Python 3 (ipykernel)",
            "language": "python"
        }
    },
    "nbformat": 4,
    "nbformat_minor": 2,
    "cells": [
        {
            "attachments": {},
            "cell_type": "markdown",
            "metadata": {},
            "source": [
                "Add your import statements and the database connection statements in the below code block\n",
                "\n",
                "Database file path = '/course/data/CSE-578/dinofunworld.db'"
            ]
        },
        {
            "cell_type": "code",
            "execution_count": 2,
            "metadata": {},
            "outputs": [],
            "source": [
                "#your code here\n",
                "import sqlite3\n",
                "\n",
                "db_filename = '/course/data/CSE-578/dinofunworld.db'\n",
                "conn = sqlite3. connect(db_filename) \n",
                "cursor = conn.cursor()\n",
                ""
            ]
        },
        {
            "attachments": {},
            "cell_type": "markdown",
            "metadata": {},
            "source": [
                "**Question 1:** \n",
                "\n",
                "What is the most popular attraction to visit in the park?\n",
                "\n",
                "**Note:** Your output should be the name of the attraction. Please print your output in the cell below."
            ]
        },
        {
            "cell_type": "code",
            "execution_count": 16,
            "metadata": {},
            "outputs": [
                {
                    "name": "stdout",
                    "output_type": "stream",
                    "text": "Atmosfear\n"
                }
            ],
            "source": [
                "### TEST FUNCTION: test_question1\n",
                "# DO NOT REMOVE THE LINE ABOVE\n",
                "# your code here\n",
                "\n",
                "cursor.execute(\"SELECT a.Name FROM attraction a left join checkin c on a.AttractionID=c.attraction group by 1 order by count(visitorId) desc limit 1\")\n",
                "print(cursor.fetchone()[0])"
            ]
        },
        {
            "attachments": {},
            "cell_type": "markdown",
            "metadata": {},
            "source": [
                "**Question 2:** \n",
                "\n",
                "What ride (note that not all attractions are rides) has the second longest average visit time?\n",
                "\n",
                "**Note:** Your output should be the name of the ride. Please print your output in the cell below.\n",
                ""
            ]
        },
        {
            "cell_type": "code",
            "execution_count": 17,
            "metadata": {},
            "outputs": [
                {
                    "name": "stdout",
                    "output_type": "stream",
                    "text": "Flight of the Swingodon\n"
                }
            ],
            "source": [
                "### TEST FUNCTION: test_question2\n",
                "# DO NOT REMOVE THE LINE ABOVE\n",
                "# your code here\n",
                "#cursor.execute(\"SELECT a.Name FROM attraction a left join checkin c on a.Name=c.attraction where a.Name like '%ide%'group by 1 order by avg(duration) desc limit 1\")\n",
                "cursor.execute(\"SELECT a.Name FROM attraction a left join checkin c on a.AttractionID=c.attraction where a.Category like '%Ride%' group by 1 order by avg(duration) desc limit 1\")\n",
                "print(cursor.fetchone()[0])"
            ]
        },
        {
            "attachments": {},
            "cell_type": "markdown",
            "metadata": {},
            "source": [
                "**Question 3:** \n",
                "\n",
                "Which Fast Food offering in the park has the fewest visitors?\n",
                "\n",
                "**Note:** Your output should be the name of the fast food offering. Please print your output in the cell below."
            ]
        },
        {
            "cell_type": "code",
            "execution_count": 20,
            "metadata": {},
            "outputs": [
                {
                    "name": "stdout",
                    "output_type": "stream",
                    "text": "Theresaur Food Stop\n"
                }
            ],
            "source": [
                "### TEST FUNCTION: test_question3\n",
                "# DO NOT REMOVE THE LINE ABOVE\n",
                "# your code here\n",
                "cursor.execute(\n",
                "    '''SELECT a.Name \n",
                "    FROM attraction a left join checkin c on a.AttractionID=c.attraction \n",
                "    where lower(a.type) like 'Fast Food' \n",
                "    group by 1\n",
                "    order by count(visitorId)\n",
                "    limit 1\n",
                "    ''')\n",
                "print(cursor.fetchall()[0][0])"
            ]
        },
        {
            "cell_type": "code",
            "execution_count": 0,
            "metadata": {},
            "outputs": [],
            "source": [
                ""
            ]
        },
        {
            "cell_type": "code",
            "execution_count": 0,
            "metadata": {},
            "outputs": [],
            "source": [
                ""
            ]
        }
    ]
}
